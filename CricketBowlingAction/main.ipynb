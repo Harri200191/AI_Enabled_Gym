{
 "cells": [
  {
   "attachments": {},
   "cell_type": "markdown",
   "metadata": {},
   "source": [
    "## Imports"
   ]
  },
  {
   "cell_type": "code",
   "execution_count": 1,
   "metadata": {},
   "outputs": [],
   "source": [
    "import numpy as np\n",
    "import cv2\n",
    "import mediapipe as mp\n",
    "import os\n",
    "import csv\n",
    "import matplotlib.pyplot as plt \n",
    "from utils import *\n",
    "\n",
    "mp_drawing = mp.solutions.drawing_utils\n",
    "mp_pose = mp.solutions.pose"
   ]
  },
  {
   "attachments": {},
   "cell_type": "markdown",
   "metadata": {},
   "source": [
    "hyperparameters of the video paths for downstream testing"
   ]
  },
  {
   "cell_type": "code",
   "execution_count": 2,
   "metadata": {},
   "outputs": [],
   "source": [
    "video_1 = \"./Video1.mp4\"\n",
    "video_2 = \"./Video2.mp4\"\n",
    "video_3 = \"./Video3.mp4\""
   ]
  },
  {
   "attachments": {},
   "cell_type": "markdown",
   "metadata": {},
   "source": [
    "## Testing the cv2 window"
   ]
  },
  {
   "cell_type": "code",
   "execution_count": 9,
   "metadata": {},
   "outputs": [],
   "source": [
    "cap = cv2.VideoCapture(video_1)\n",
    " \n",
    "if not cap.isOpened():\n",
    "    print(\"Error: Unable to open video file.\")\n",
    "    exit()\n",
    " \n",
    "while True: \n",
    "    ret, frame = cap.read()\n",
    " \n",
    "    if not ret:\n",
    "        print(\"Error: Unable to read frame.\")\n",
    "        break\n",
    "    cv2.imshow(\"Video\", frame)\n",
    " \n",
    "    if cv2.waitKey(1) & 0xFF == ord('q'):\n",
    "        break\n",
    "    \n",
    "cap.release()\n",
    "cv2.destroyAllWindows()"
   ]
  },
  {
   "attachments": {},
   "cell_type": "markdown",
   "metadata": {},
   "source": [
    "## Joint Detection"
   ]
  },
  {
   "cell_type": "code",
   "execution_count": 13,
   "metadata": {},
   "outputs": [],
   "source": [
    "cap = cv2.VideoCapture(video_1) \n",
    "\n",
    "with mp_pose.Pose(min_detection_confidence=0.2, min_tracking_confidence=0.5) as pose:\n",
    "    while cap.isOpened():\n",
    "        ret, frame = cap.read() \n",
    "        image = cv2.cvtColor(frame, cv2.COLOR_BGR2RGB)\n",
    "        image.flags.writeable = False \n",
    "        results = pose.process(image) \n",
    "        image.flags.writeable = True\n",
    "        image = cv2.cvtColor(image, cv2.COLOR_RGB2BGR)      \n",
    "        try:\n",
    "            landmarks = results.pose_landmarks.landmark \n",
    "        except:\n",
    "            pass\n",
    "         \n",
    "        mp_drawing.draw_landmarks(\n",
    "            image, results.pose_landmarks, mp_pose.POSE_CONNECTIONS,\n",
    "            mp_drawing.DrawingSpec(color=(245,117,66), thickness=2, circle_radius=2), \n",
    "            mp_drawing.DrawingSpec(color=(245,66,230), thickness=2, circle_radius=2) \n",
    "        )               \n",
    "        \n",
    "        cv2.imshow('Mediapipe Feed', image)\n",
    "        if cv2.waitKey(10) & 0xFF == ord('q'):\n",
    "            break\n",
    "\n",
    "    cap.release()\n",
    "    cv2.destroyAllWindows()"
   ]
  },
  {
   "cell_type": "code",
   "execution_count": 23,
   "metadata": {},
   "outputs": [
    {
     "name": "stdout",
     "output_type": "stream",
     "text": [
      "We were able to detect 33 number of joints or landmarks.\n",
      "The right shoulder was visible with 99.99 % visibility\n",
      "The right elbow was visible with 98.78 % visibility\n",
      "The co-ordinates of the right elbow were x = 0.209 and y = 0.243 and z = -0.11\n"
     ]
    }
   ],
   "source": [
    "print(\"We were able to detect {} number of joints or landmarks.\".format(len(landmarks)))\n",
    "print(\"The right shoulder was visible with {} % visibility\".format(round(landmarks[mp_pose.PoseLandmark.RIGHT_SHOULDER.value].visibility*100, 2)))\n",
    "print(\"The right elbow was visible with {} % visibility\".format(round(landmarks[mp_pose.PoseLandmark.RIGHT_ELBOW.value].visibility*100, 2)))\n",
    "print(\"The co-ordinates of the right elbow were x = {} and y = {} and z = {}\".format(round(landmarks[mp_pose.PoseLandmark.RIGHT_ELBOW.value].x, 3), round(landmarks[mp_pose.PoseLandmark.RIGHT_ELBOW.value].y, 3), round(landmarks[mp_pose.PoseLandmark.RIGHT_ELBOW.value].z, 3)))"
   ]
  },
  {
   "attachments": {},
   "cell_type": "markdown",
   "metadata": {},
   "source": [
    "This function is used to find angle between any three joint points at the central joint"
   ]
  },
  {
   "cell_type": "code",
   "execution_count": 7,
   "metadata": {},
   "outputs": [],
   "source": [
    "def calculate_angle(a,b,c):\n",
    "    a = np.array(a)\n",
    "    b = np.array(b) \n",
    "    c = np.array(c) \n",
    "    radians = np.arctan2(c[1]-b[1], c[0]-b[0]) - np.arctan2(a[1]-b[1], a[0]-b[0])\n",
    "    angle = np.abs(radians*180.0/np.pi)\n",
    "    if angle >180.0:\n",
    "        angle = 360-angle\n",
    "    return angle "
   ]
  },
  {
   "cell_type": "code",
   "execution_count": 8,
   "metadata": {},
   "outputs": [],
   "source": [
    "shoulder = [landmarks[mp_pose.PoseLandmark.LEFT_SHOULDER.value].x,landmarks[mp_pose.PoseLandmark.LEFT_SHOULDER.value].y]\n",
    "elbow = [landmarks[mp_pose.PoseLandmark.LEFT_ELBOW.value].x,landmarks[mp_pose.PoseLandmark.LEFT_ELBOW.value].y]\n",
    "wrist = [landmarks[mp_pose.PoseLandmark.LEFT_WRIST.value].x,landmarks[mp_pose.PoseLandmark.LEFT_WRIST.value].y]"
   ]
  },
  {
   "cell_type": "code",
   "execution_count": 9,
   "metadata": {},
   "outputs": [
    {
     "data": {
      "text/plain": [
       "([0.5303999781608582, 0.3968207836151123],\n",
       " [0.5283608436584473, 0.49190232157707214],\n",
       " [0.5301544070243835, 0.574292004108429])"
      ]
     },
     "execution_count": 9,
     "metadata": {},
     "output_type": "execute_result"
    }
   ],
   "source": [
    "shoulder, elbow, wrist"
   ]
  },
  {
   "cell_type": "code",
   "execution_count": 10,
   "metadata": {},
   "outputs": [
    {
     "data": {
      "text/plain": [
       "177.5243230982769"
      ]
     },
     "execution_count": 10,
     "metadata": {},
     "output_type": "execute_result"
    }
   ],
   "source": [
    "calculate_angle(shoulder, elbow, wrist)"
   ]
  },
  {
   "cell_type": "code",
   "execution_count": 19,
   "metadata": {},
   "outputs": [],
   "source": [
    "cap = cv2.VideoCapture(video_1)\n",
    "with mp_pose.Pose(min_detection_confidence=0.5, min_tracking_confidence=0.5) as pose:\n",
    "    while cap.isOpened():\n",
    "        ret, frame = cap.read() \n",
    "        image = cv2.cvtColor(frame, cv2.COLOR_BGR2RGB)\n",
    "        image.flags.writeable = False\n",
    "        results = pose.process(image) \n",
    "        image.flags.writeable = True\n",
    "        image = cv2.cvtColor(image, cv2.COLOR_RGB2BGR) \n",
    "        try:\n",
    "            landmarks = results.pose_landmarks.landmark \n",
    "            left_shoulder = [landmarks[mp_pose.PoseLandmark.LEFT_SHOULDER.value].x,landmarks[mp_pose.PoseLandmark.LEFT_SHOULDER.value].y]\n",
    "            left_elbow = [landmarks[mp_pose.PoseLandmark.LEFT_ELBOW.value].x,landmarks[mp_pose.PoseLandmark.LEFT_ELBOW.value].y]\n",
    "            left_wrist = [landmarks[mp_pose.PoseLandmark.LEFT_WRIST.value].x,landmarks[mp_pose.PoseLandmark.LEFT_WRIST.value].y]\n",
    "\n",
    "            r_shoulder = [landmarks[mp_pose.PoseLandmark.RIGHT_SHOULDER.value].x,landmarks[mp_pose.PoseLandmark.RIGHT_SHOULDER.value].y]\n",
    "            r_elbow = [landmarks[mp_pose.PoseLandmark.RIGHT_ELBOW.value].x,landmarks[mp_pose.PoseLandmark.RIGHT_ELBOW.value].y]\n",
    "            r_wrist = [landmarks[mp_pose.PoseLandmark.RIGHT_WRIST.value].x,landmarks[mp_pose.PoseLandmark.RIGHT_WRIST.value].y]\n",
    "             \n",
    "            l_angle = calculate_angle(left_shoulder, left_elbow, left_wrist)\n",
    "            r_angle = calculate_angle(r_shoulder, r_elbow, r_wrist)\n",
    "            height, width, channels = image.shape\n",
    "         \n",
    "            cv2.putText(\n",
    "                image, str(l_angle), \n",
    "                tuple(np.multiply(left_elbow, [width, height]).astype(int)), \n",
    "                cv2.FONT_HERSHEY_SIMPLEX, 0.5, (255, 255, 255), 2, cv2.LINE_AA\n",
    "            )    \n",
    "\n",
    "            cv2.putText(\n",
    "                image, str(r_angle), \n",
    "                tuple(np.multiply(r_elbow, [width, height]).astype(int)), \n",
    "                cv2.FONT_HERSHEY_SIMPLEX, 0.5, (255, 255, 255), 2, cv2.LINE_AA\n",
    "            )        \n",
    "        except:\n",
    "            pass\n",
    "         \n",
    "        mp_drawing.draw_landmarks(\n",
    "            image, results.pose_landmarks, mp_pose.POSE_CONNECTIONS,\n",
    "            mp_drawing.DrawingSpec(color=(245,117,66), thickness=2, circle_radius=2), \n",
    "            mp_drawing.DrawingSpec(color=(245,66,230), thickness=2, circle_radius=2) \n",
    "        )               \n",
    "        \n",
    "        cv2.imshow('Mediapipe Feed', image)\n",
    "        if cv2.waitKey(10) & 0xFF == ord('q'):\n",
    "            break\n",
    "\n",
    "    cap.release()\n",
    "    cv2.destroyAllWindows()"
   ]
  },
  {
   "attachments": {},
   "cell_type": "markdown",
   "metadata": {},
   "source": [
    "## Detection of illegal bowling"
   ]
  },
  {
   "cell_type": "code",
   "execution_count": 14,
   "metadata": {},
   "outputs": [],
   "source": [
    "bowler = 'right arm'\n",
    "state = 'OK'\n",
    "cap = cv2.VideoCapture(video_2)   \n",
    "with mp_pose.Pose(min_detection_confidence=0.5, min_tracking_confidence=0.5) as pose:\n",
    "    while cap.isOpened():\n",
    "        ret, frame = cap.read() \n",
    "        if ret:\n",
    "            image = cv2.cvtColor(frame, cv2.COLOR_BGR2RGB)\n",
    "            image.flags.writeable = False \n",
    "            results = pose.process(image)\n",
    "            image.flags.writeable = True\n",
    "            image = cv2.cvtColor(image, cv2.COLOR_RGB2BGR) \n",
    "            try:\n",
    "                landmarks = results.pose_landmarks.landmark \n",
    "\n",
    "                left_shoulder = [landmarks[mp_pose.PoseLandmark.LEFT_SHOULDER.value].x,landmarks[mp_pose.PoseLandmark.LEFT_SHOULDER.value].y]\n",
    "                left_elbow = [landmarks[mp_pose.PoseLandmark.LEFT_ELBOW.value].x,landmarks[mp_pose.PoseLandmark.LEFT_ELBOW.value].y]\n",
    "                left_wrist = [landmarks[mp_pose.PoseLandmark.LEFT_WRIST.value].x,landmarks[mp_pose.PoseLandmark.LEFT_WRIST.value].y]\n",
    "\n",
    "                r_shoulder = [landmarks[mp_pose.PoseLandmark.RIGHT_SHOULDER.value].x,landmarks[mp_pose.PoseLandmark.RIGHT_SHOULDER.value].y]\n",
    "                r_elbow = [landmarks[mp_pose.PoseLandmark.RIGHT_ELBOW.value].x,landmarks[mp_pose.PoseLandmark.RIGHT_ELBOW.value].y]\n",
    "                r_wrist = [landmarks[mp_pose.PoseLandmark.RIGHT_WRIST.value].x,landmarks[mp_pose.PoseLandmark.RIGHT_WRIST.value].y]\n",
    "\n",
    "                right_knee = [landmarks[mp_pose.PoseLandmark.RIGHT_KNEE.value].x,landmarks[mp_pose.PoseLandmark.RIGHT_KNEE.value].y]\n",
    "                right_hip = [landmarks[mp_pose.PoseLandmark.RIGHT_HIP.value].x,landmarks[mp_pose.PoseLandmark.RIGHT_HIP.value].y]\n",
    "                right_ankle = [landmarks[mp_pose.PoseLandmark.RIGHT_ANKLE.value].x,landmarks[mp_pose.PoseLandmark.RIGHT_ANKLE.value].y]\n",
    "\n",
    "                left_knee = [landmarks[mp_pose.PoseLandmark.LEFT_KNEE.value].x,landmarks[mp_pose.PoseLandmark.LEFT_KNEE.value].y]\n",
    "                left_hip = [landmarks[mp_pose.PoseLandmark.LEFT_HIP.value].x,landmarks[mp_pose.PoseLandmark.LEFT_HIP.value].y]\n",
    "                left_ankle = [landmarks[mp_pose.PoseLandmark.LEFT_ANKLE.value].x,landmarks[mp_pose.PoseLandmark.LEFT_ANKLE.value].y]\n",
    "                \n",
    "                l_angle = calculate_angle(left_shoulder, left_elbow, left_wrist)\n",
    "                r_angle = calculate_angle(r_shoulder, r_elbow, r_wrist)\n",
    "                right_leg = calculate_angle(right_hip, right_knee, right_ankle)\n",
    "                left_leg = calculate_angle(left_hip, left_knee, left_ankle)\n",
    "                height, width, channels = image.shape\n",
    "\n",
    "                cv2.putText(image, str(l_angle), \n",
    "                            tuple(np.multiply(left_elbow, [width, height]).astype(int)), \n",
    "                            cv2.FONT_HERSHEY_SIMPLEX, 0.5, (255, 255, 255), 2, cv2.LINE_AA\n",
    "                                    )\n",
    "\n",
    "                cv2.putText(image, str(r_angle), \n",
    "                            tuple(np.multiply(r_elbow, [width, height]).astype(int)), \n",
    "                            cv2.FONT_HERSHEY_SIMPLEX, 0.5, (255, 255, 255), 2, cv2.LINE_AA\n",
    "                                    )      \n",
    "\n",
    "                cv2.putText(image, str(right_leg), \n",
    "                            tuple(np.multiply(right_knee, [width, height]).astype(int)), \n",
    "                            cv2.FONT_HERSHEY_SIMPLEX, 0.5, (255, 255, 255), 2, cv2.LINE_AA\n",
    "                                    )   \n",
    "                \n",
    "                cv2.putText(image, str(left_leg), \n",
    "                            tuple(np.multiply(left_knee, [width, height]).astype(int)), \n",
    "                            cv2.FONT_HERSHEY_SIMPLEX, 0.5, (255, 255, 255), 2, cv2.LINE_AA\n",
    "                                    )        \n",
    "                \n",
    "                ## Main Logic Of the Ilegal Action Detector ##\n",
    "                if (bowler == 'right arm'):\n",
    "                    if (right_leg <160) and (left_leg >170):\n",
    "                        if (r_angle<150):\n",
    "                            state = 'Not Allowed'\n",
    "                        else:\n",
    "                            state = 'OK'\n",
    "                elif (bowler == 'left arm'):\n",
    "                    if (left_leg <160) and (right_leg >170):\n",
    "                        if (l_angle<150):\n",
    "                            state = 'Not Allowed'\n",
    "                        else:\n",
    "                            state = 'OK'\n",
    "            except:\n",
    "                pass\n",
    "            \n",
    "            cv2.rectangle(image, (0, 0), (325, 73), (245, 117, 16), -1)  \n",
    "            cv2.rectangle(image, (430, 0), (250, 73), (245, 117, 16), -1)\n",
    "            \n",
    "            cv2.putText(image, 'STATE', (25,12), \n",
    "                        cv2.FONT_HERSHEY_SIMPLEX, 0.5, (0,0,0), 1, cv2.LINE_AA)\n",
    "            cv2.putText(image, state, \n",
    "                        (20,60), \n",
    "                        cv2.FONT_HERSHEY_SIMPLEX, 2, (255,255,255), 2, cv2.LINE_AA)\n",
    "            \n",
    "            mp_drawing.draw_landmarks(image, results.pose_landmarks, mp_pose.POSE_CONNECTIONS,\n",
    "                                    mp_drawing.DrawingSpec(color=(245,117,66), thickness=2, circle_radius=2), \n",
    "                                    mp_drawing.DrawingSpec(color=(245,66,230), thickness=2, circle_radius=2) \n",
    "                                    )               \n",
    "            \n",
    "            cv2.imshow('Mediapipe Feed', image)\n",
    "\n",
    "            if cv2.waitKey(10) & 0xFF == ord('q'):\n",
    "                break\n",
    "        else:\n",
    "            break\n",
    "\n",
    "    cap.release()\n",
    "    cv2.destroyAllWindows()"
   ]
  },
  {
   "cell_type": "code",
   "execution_count": 3,
   "metadata": {},
   "outputs": [],
   "source": [
    "Analyzer = BowlingActionAnalyser(video=video_1, bowler='right arm', position=0)\n",
    "Analyzer.analyze()"
   ]
  },
  {
   "cell_type": "code",
   "execution_count": null,
   "metadata": {},
   "outputs": [],
   "source": []
  }
 ],
 "metadata": {
  "kernelspec": {
   "display_name": "Python 3",
   "language": "python",
   "name": "python3"
  },
  "language_info": {
   "codemirror_mode": {
    "name": "ipython",
    "version": 3
   },
   "file_extension": ".py",
   "mimetype": "text/x-python",
   "name": "python",
   "nbconvert_exporter": "python",
   "pygments_lexer": "ipython3",
   "version": "3.11.4"
  },
  "orig_nbformat": 4
 },
 "nbformat": 4,
 "nbformat_minor": 2
}
